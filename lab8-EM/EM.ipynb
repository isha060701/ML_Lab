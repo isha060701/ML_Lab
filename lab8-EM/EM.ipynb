{
 "cells": [
  {
   "cell_type": "code",
   "execution_count": 1,
   "id": "215aeb19",
   "metadata": {},
   "outputs": [
    {
     "name": "stdout",
     "output_type": "stream",
     "text": [
      "import done\n",
      "Input Gaussian 1: μ = 2.0, σ = 4.0\n",
      "Input Gaussian 2: μ = 9.0, σ = 2.0\n",
      "done\n",
      "Best single Gaussian: μ = 4.4, σ = 4.8\n"
     ]
    },
    {
     "name": "stderr",
     "output_type": "stream",
     "text": [
      "C:\\Users\\HP\\anaconda3\\lib\\site-packages\\seaborn\\distributions.py:2619: FutureWarning: `distplot` is a deprecated function and will be removed in a future version. Please adapt your code to use either `displot` (a figure-level function with similar flexibility) or `histplot` (an axes-level function for histograms).\n",
      "  warnings.warn(msg, FutureWarning)\n"
     ]
    },
    {
     "data": {
      "image/png": "[encoded data removed]",
      "text/plain": [
       "<Figure size 432x288 with 1 Axes>"
      ]
     },
     "metadata": {
      "needs_background": "light"
     },
     "output_type": "display_data"
    }
   ],
   "source": [
    "# import libraries\n",
    "\n",
    "# For plotting\n",
    "import matplotlib.pyplot as plt\n",
    "import seaborn as sns\n",
    "sns.set_style(\"white\")\n",
    "%matplotlib inline\n",
    "#for matrix math\n",
    "import numpy as np\n",
    "#for normalization + probability density function computation\n",
    "from scipy import stats\n",
    "#for data preprocessing\n",
    "import pandas as pd\n",
    "from math import sqrt, log, exp, pi\n",
    "from random import uniform\n",
    "print(\"import done\")\n",
    "\n",
    "random_seed=36788765\n",
    "np.random.seed(random_seed)\n",
    "\n",
    "Mean1 = 2.0  # Input parameter, mean of first normal probability distribution\n",
    "Standard_dev1 = 4.0 #@param {type:\"number\"}\n",
    "Mean2 = 9.0 # Input parameter, mean of second normal  probability distribution\n",
    "Standard_dev2 = 2.0 #@param {type:\"number\"}\n",
    "\n",
    "# generate data\n",
    "y1 = np.random.normal(Mean1, Standard_dev1, 1000)\n",
    "y2 = np.random.normal(Mean2, Standard_dev2, 500)\n",
    "data=np.append(y1,y2)\n",
    "\n",
    "# For data visiualisation calculate left and right of the graph\n",
    "Min_graph = min(data)\n",
    "Max_graph = max(data)\n",
    "x = np.linspace(Min_graph, Max_graph, 2000) # to plot the data\n",
    "\n",
    "print('Input Gaussian {:}: μ = {:.2}, σ = {:.2}'.format(\"1\", Mean1, Standard_dev1))\n",
    "print('Input Gaussian {:}: μ = {:.2}, σ = {:.2}'.format(\"2\", Mean2, Standard_dev2))\n",
    "sns.distplot(data, bins=20, kde=False);\n",
    "\n",
    "class Gaussian:\n",
    "    \"Model univariate Gaussian\"\n",
    "    def __init__(self, mu, sigma):\n",
    "        #mean and standard deviation\n",
    "        self.mu = mu\n",
    "        self.sigma = sigma\n",
    "\n",
    "    #probability density function\n",
    "    def pdf(self, datum):\n",
    "        \"Probability of a data point given the current parameters\"\n",
    "        u = (datum - self.mu) / abs(self.sigma)\n",
    "        y = (1 / (sqrt(2 * pi) * abs(self.sigma))) * exp(-u * u / 2)\n",
    "        return y\n",
    "    \n",
    "    def __repr__(self):\n",
    "        return 'Gaussian({0:4.6}, {1:4.6})'.format(self.mu, self.sigma)\n",
    "print(\"done\")\n",
    "\n",
    "#gaussian of best fit\n",
    "best_single = Gaussian(np.mean(data), np.std(data))\n",
    "print('Best single Gaussian: μ = {:.2}, σ = {:.2}'.format(best_single.mu, best_single.sigma))\n",
    "#fit a single gaussian curve to the data\n",
    "g_single = stats.norm(best_single.mu, best_single.sigma).pdf(x)\n",
    "sns.distplot(data, bins=20, kde=False, norm_hist=True);\n",
    "plt.plot(x, g_single, label='single gaussian');\n",
    "plt.legend();\n",
    "\n"
   ]
  },
  {
   "cell_type": "code",
   "execution_count": 2,
   "id": "16d35c35",
   "metadata": {},
   "outputs": [
    {
     "name": "stdout",
     "output_type": "stream",
     "text": [
      "done\n",
      " 1 Mixture: Gaussian(-4.65874, 1.62801), Gaussian(5.10268, 4.19809), mix=0.0669)\n",
      " 1 Mixture: Gaussian(-4.21781, 1.68223), Gaussian(5.00451, 4.32629), mix=0.0601)\n",
      " 1 Mixture: Gaussian(-3.94629, 1.71525), Gaussian(4.97, 4.37573), mix=0.0583)\n",
      " 1 Mixture: Gaussian(-3.75623, 1.74848), Gaussian(4.95878, 4.39815), mix=0.0584)\n",
      " 1 Mixture: Gaussian(-3.611, 1.78325), Gaussian(4.95894, 4.40802), mix=0.0594)\n",
      " 1 Mixture: Gaussian(-3.49317, 1.81886), Gaussian(4.96574, 4.41091), mix=0.061)\n",
      " 1 Mixture: Gaussian(-3.39344, 1.85471), Gaussian(4.97688, 4.40941), mix=0.063)\n",
      " 1 Mixture: Gaussian(-3.30633, 1.89043), Gaussian(4.99114, 4.40492), mix=0.0652)\n",
      " 1 Mixture: Gaussian(-3.22835, 1.92584), Gaussian(5.00776, 4.39823), mix=0.0677)\n",
      " 1 Mixture: Gaussian(-3.15722, 1.96086), Gaussian(5.02629, 4.38982), mix=0.0704)\n",
      " 1 Mixture: Gaussian(-3.09133, 1.99546), Gaussian(5.04643, 4.38002), mix=0.0733)\n",
      " 1 Mixture: Gaussian(-3.02951, 2.02966), Gaussian(5.06798, 4.36903), mix=0.0763)\n",
      " 1 Mixture: Gaussian(-2.97094, 2.06347), Gaussian(5.09081, 4.35699), mix=0.0795)\n",
      " 1 Mixture: Gaussian(-2.91496, 2.09691), Gaussian(5.11483, 4.34398), mix=0.0828)\n",
      " 1 Mixture: Gaussian(-2.86106, 2.13), Gaussian(5.13999, 4.33006), mix=0.0863)\n",
      " 1 Mixture: Gaussian(-2.80884, 2.16271), Gaussian(5.16625, 4.31526), mix=0.0898)\n",
      " 1 Mixture: Gaussian(-2.75796, 2.19503), Gaussian(5.1936, 4.29961), mix=0.0935)\n",
      " 1 Mixture: Gaussian(-2.70812, 2.22688), Gaussian(5.22205, 4.28312), mix=0.0974)\n",
      " 1 Mixture: Gaussian(-2.65903, 2.25816), Gaussian(5.25158, 4.2658), mix=0.101)\n",
      " 1 Mixture: Gaussian(-2.61045, 2.28877), Gaussian(5.2822, 4.24767), mix=0.105)\n",
      "Computing best model with random restarts...\n",
      "\n",
      "Input Gaussian 1: μ = 2.0, σ = 4.0\n",
      "Input Gaussian 2: μ = 9.0, σ = 2.0\n",
      "Gaussian 1: μ = 8.8, σ = 2.2, weight = 0.38\n",
      "Gaussian 2: μ = 1.8, σ = 3.8, weight = 0.62\n"
     ]
    },
    {
     "name": "stderr",
     "output_type": "stream",
     "text": [
      "C:\\Users\\HP\\anaconda3\\lib\\site-packages\\seaborn\\distributions.py:2619: FutureWarning: `distplot` is a deprecated function and will be removed in a future version. Please adapt your code to use either `displot` (a figure-level function with similar flexibility) or `histplot` (an axes-level function for histograms).\n",
      "  warnings.warn(msg, FutureWarning)\n"
     ]
    },
    {
     "data": {
      "image/png": "[encoded data removed]",
      "text/plain": [
       "<Figure size 432x288 with 1 Axes>"
      ]
     },
     "metadata": {
      "needs_background": "light"
     },
     "output_type": "display_data"
    }
   ],
   "source": [
    "class GaussianMixture_self:\n",
    "    \"Model mixture of two univariate Gaussians and their EM estimation\"\n",
    "\n",
    "    def __init__(self, data, mu_min=min(data), mu_max=max(data), sigma_min=1, sigma_max=1, mix=.5):\n",
    "        self.data = data\n",
    "        #todo the Algorithm would be numerical enhanced by normalizing the data first, next do all the EM steps and do the de-normalising at the end\n",
    "        \n",
    "        #init with multiple gaussians\n",
    "        self.one = Gaussian(uniform(mu_min, mu_max), \n",
    "                            uniform(sigma_min, sigma_max))\n",
    "        self.two = Gaussian(uniform(mu_min, mu_max), \n",
    "                            uniform(sigma_min, sigma_max))\n",
    "        \n",
    "        #as well as how much to mix them\n",
    "        self.mix = mix\n",
    "\n",
    "    def Estep(self):\n",
    "        \"Perform an E(stimation)-step, assign each point to gaussian 1 or 2 with a percentage\"\n",
    "        # compute weights\n",
    "        self.loglike = 0. # = log(p = 1)\n",
    "        for datum in self.data:  \n",
    "            # unnormalized weights\n",
    "            wp1 = self.one.pdf(datum) * self.mix\n",
    "            wp2 = self.two.pdf(datum) * (1. - self.mix)\n",
    "            # compute denominator\n",
    "            den = wp1 + wp2\n",
    "            # normalize\n",
    "            wp1 /= den   \n",
    "            wp2 /= den     # wp1+wp2= 1, it either belongs to gaussian 1 or gaussion 2\n",
    "            # add into loglike\n",
    "            self.loglike += log(den) #freshening up self.loglike in the process\n",
    "            # yield weight tuple\n",
    "            yield (wp1, wp2)\n",
    "\n",
    "    def Mstep(self, weights):\n",
    "        \"Perform an M(aximization)-step\"\n",
    "        # compute denominators\n",
    "        (left, rigt) = zip(*weights) \n",
    "        one_den = sum(left)\n",
    "        two_den = sum(rigt)\n",
    "\n",
    "        # compute new means\n",
    "        self.one.mu = sum(w * d  for (w, d) in zip(left, data)) / one_den\n",
    "        self.two.mu = sum(w * d  for (w, d) in zip(rigt, data)) / two_den\n",
    "        \n",
    "        # compute new sigmas\n",
    "        self.one.sigma = sqrt(sum(w * ((d - self.one.mu) ** 2)\n",
    "                                  for (w, d) in zip(left, data)) / one_den)\n",
    "        self.two.sigma = sqrt(sum(w * ((d - self.two.mu) ** 2)\n",
    "                                  for (w, d) in zip(rigt, data)) / two_den)\n",
    "        # compute new mix\n",
    "        self.mix = one_den / len(data)\n",
    "\n",
    "        \n",
    "    def iterate(self, N=1, verbose=False):\n",
    "        \"Perform N iterations, then compute log-likelihood\"\n",
    "        for i in range(1, N+1):\n",
    "            self.Mstep(self.Estep()) #The heart of the algorith, perform E-stepand next M-step\n",
    "            if verbose:\n",
    "                print('{0:2} {1}'.format(i, self))\n",
    "        self.Estep() # to freshen up self.loglike\n",
    "\n",
    "    def pdf(self, x):\n",
    "        return (self.mix)*self.one.pdf(x) + (1-self.mix)*self.two.pdf(x)\n",
    "        \n",
    "    def __repr__(self):\n",
    "        return 'GaussianMixture({0}, {1}, mix={2.03})'.format(self.one, \n",
    "                                                              self.two, \n",
    "                                                              self.mix)\n",
    "\n",
    "    def __str__(self):\n",
    "        return 'Mixture: {0}, {1}, mix={2:.03})'.format(self.one, \n",
    "                                                        self.two, \n",
    "                                                        self.mix)\n",
    "print(\"done\")\n",
    "\n",
    "# See the algorithm in action\n",
    "n_iterations = 20\n",
    "best_mix = None\n",
    "best_loglike = float('-inf')\n",
    "mix = GaussianMixture_self(data)\n",
    "for _ in range(n_iterations):\n",
    "    try:\n",
    "        #train!\n",
    "        mix.iterate(verbose=True)\n",
    "        if mix.loglike > best_loglike:\n",
    "            best_loglike = mix.loglike\n",
    "            best_mix = mix\n",
    "        \n",
    "    except (ZeroDivisionError, ValueError, RuntimeWarning): # Catch division errors from bad starts, and just throw them out...\n",
    "        print(\"one less\")\n",
    "        pass\n",
    "    \n",
    "# Find best Mixture Gaussian model\n",
    "n_iterations = 300\n",
    "n_random_restarts = 4\n",
    "best_mix = None\n",
    "best_loglike = float('-inf')\n",
    "print('Computing best model with random restarts...\\n')\n",
    "for _ in range(n_random_restarts):\n",
    "    mix = GaussianMixture_self(data)\n",
    "    for _ in range(n_iterations):\n",
    "        try:\n",
    "            mix.iterate()\n",
    "            if mix.loglike > best_loglike:\n",
    "                best_loglike = mix.loglike\n",
    "                best_mix = mix\n",
    "        except (ZeroDivisionError, ValueError, RuntimeWarning): # Catch division errors from bad starts, and just throw them out...\n",
    "            pass\n",
    "#print('Best Gaussian Mixture : μ = {:.2}, σ = {:.2} with μ = {:.2}, σ = {:.2}'.format(best_mix.one.mu, best_mix.one.sigma, best_mix.two.mu, best_mix.two.sigma))\n",
    "\n",
    "print('Input Gaussian {:}: μ = {:.2}, σ = {:.2}'.format(\"1\", Mean1, Standard_dev1))\n",
    "print('Input Gaussian {:}: μ = {:.2}, σ = {:.2}'.format(\"2\", Mean2, Standard_dev2))\n",
    "print('Gaussian {:}: μ = {:.2}, σ = {:.2}, weight = {:.2}'.format(\"1\", best_mix.one.mu, best_mix.one.sigma, best_mix.mix))\n",
    "print('Gaussian {:}: μ = {:.2}, σ = {:.2}, weight = {:.2}'.format(\"2\", best_mix.two.mu, best_mix.two.sigma, (1-best_mix.mix)))\n",
    "#Show mixture\n",
    "sns.distplot(data, bins=20, kde=False, norm_hist=True);\n",
    "g_both = [best_mix.pdf(e) for e in x]\n",
    "plt.plot(x, g_both, label='gaussian mixture');\n",
    "g_left = [best_mix.one.pdf(e) * best_mix.mix for e in x]\n",
    "plt.plot(x, g_left, label='gaussian one');\n",
    "g_right = [best_mix.two.pdf(e) * (1-best_mix.mix) for e in x]\n",
    "plt.plot(x, g_right, label='gaussian two');\n",
    "plt.legend();\n",
    "\n",
    "\n"
   ]
  },
  {
   "cell_type": "code",
   "execution_count": 3,
   "id": "2c1b2cdd",
   "metadata": {},
   "outputs": [
    {
     "name": "stdout",
     "output_type": "stream",
     "text": [
      "The accuracy score of EM:  0.36666666666666664\n"
     ]
    },
    {
     "data": {
      "image/png": "[encoded data removed]",
      "text/plain": [
       "<Figure size 1440x576 with 1 Axes>"
      ]
     },
     "metadata": {
      "needs_background": "light"
     },
     "output_type": "display_data"
    }
   ],
   "source": [
    "#from sklearn.cluster import KMeans\n",
    "from sklearn.mixture import GaussianMixture\n",
    "import sklearn.metrics as metrics\n",
    "import pandas as pd\n",
    "import numpy as np\n",
    "import matplotlib.pyplot as plt\n",
    "\n",
    "names = ['Sepal_Length','Sepal_Width','Petal_Length','Petal_Width', 'Class']\n",
    "\n",
    "dataset = pd.read_csv(r'C:\\Users\\HP\\Desktop\\6 sem\\ml_6sem\\IRIS.csv', names=names)\n",
    "\n",
    "X = dataset.iloc[:, :-1]  \n",
    "\n",
    "label = {'Iris-setosa': 0,'Iris-versicolor': 1, 'Iris-virginica': 2} \n",
    "\n",
    "y = [label[c] for c in dataset.iloc[:, -1]]\n",
    "\n",
    "plt.figure(figsize=(20,8))\n",
    "colormap=np.array(['red','yellow','orange'])\n",
    "\n",
    "gmm=GaussianMixture(n_components=3, random_state=0).fit(X)\n",
    "y_cluster_gmm=gmm.predict(X)\n",
    "plt.subplot(1,3,3)\n",
    "plt.title('EM ')\n",
    "plt.xlabel('Petal Length in cm')\n",
    "plt.ylabel('Petal Width in cm')\n",
    "plt.scatter(X.Petal_Length,X.Petal_Width,c=colormap[y_cluster_gmm])\n",
    "print('The accuracy score of EM: ',metrics.accuracy_score(y, y_cluster_gmm))"
   ]
  },
  {
   "cell_type": "code",
   "execution_count": null,
   "id": "d71bc68f",
   "metadata": {},
   "outputs": [],
   "source": []
  }
 ],
 "metadata": {
  "kernelspec": {
   "display_name": "Python 3 (ipykernel)",
   "language": "python",
   "name": "python3"
  },
  "language_info": {
   "codemirror_mode": {
    "name": "ipython",
    "version": 3
   },
   "file_extension": ".py",
   "mimetype": "text/x-python",
   "name": "python",
   "nbconvert_exporter": "python",
   "pygments_lexer": "ipython3",
   "version": "3.9.7"
  }
 },
 "nbformat": 4,
 "nbformat_minor": 5
}
