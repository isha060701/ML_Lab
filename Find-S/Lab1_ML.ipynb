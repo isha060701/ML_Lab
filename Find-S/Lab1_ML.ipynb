{
  "nbformat": 4,
  "nbformat_minor": 0,
  "metadata": {
    "colab": {
      "name": "Lab1_ML.ipynb",
      "provenance": [],
      "authorship_tag": "ABX9TyPoz6rMnQP/6MdjQjY64ugX",
      "include_colab_link": true
    },
    "kernelspec": {
      "name": "python3",
      "display_name": "Python 3"
    }
  },
  "cells": [
    {
      "cell_type": "markdown",
      "metadata": {
        "id": "view-in-github",
        "colab_type": "text"
      },
      "source": [
        "<a href=\"https://colab.research.google.com/github/1BM18CS069/1BM18CS069-ML/blob/main/Lab1_ML.ipynb\" target=\"_parent\"><img src=\"https://colab.research.google.com/assets/colab-badge.svg\" alt=\"Open In Colab\"/></a>"
      ]
    },
    {
      "cell_type": "code",
      "metadata": {
        "id": "I3ObzfqbK19y"
      },
      "source": [
        "import numpy as np\r\n",
        "import pandas as pd"
      ],
      "execution_count": 1,
      "outputs": []
    },
    {
      "cell_type": "code",
      "metadata": {
        "colab": {
          "base_uri": "https://localhost:8080/"
        },
        "id": "wVVamqxfLFff",
        "outputId": "6101a2a9-7326-454f-ed2a-55521b5c6b56"
      },
      "source": [
        "from google.colab import drive\r\n",
        "drive.mount(\"/content/drive\")"
      ],
      "execution_count": 2,
      "outputs": [
        {
          "output_type": "stream",
          "text": [
            "Mounted at /content/drive\n"
          ],
          "name": "stdout"
        }
      ]
    },
    {
      "cell_type": "code",
      "metadata": {
        "colab": {
          "base_uri": "https://localhost:8080/"
        },
        "id": "kpAYEEHFOItn",
        "outputId": "a0110d91-6cb9-4b37-901b-ed860ddde45e"
      },
      "source": [
        "data = pd.read_csv(\"/content/drive/MyDrive/finddata.csv\")\r\n",
        "print(data,\"\\n\")"
      ],
      "execution_count": 10,
      "outputs": [
        {
          "output_type": "stream",
          "text": [
            "      Time Weather Temperature Company Humidity    Wind Goes\n",
            "0  Morning   Sunny        Warm     Yes     Mild  Strong  Yes\n",
            "1  Evening   Rainy        Cold      No     Mild  Normal   No\n",
            "2  Morning   Sunny    Moderate     Yes   Normal  Normal  Yes\n",
            "3  Evening   Sunny        Cold     Yes     High  Strong  Yes \n",
            "\n"
          ],
          "name": "stdout"
        }
      ]
    },
    {
      "cell_type": "code",
      "metadata": {
        "colab": {
          "base_uri": "https://localhost:8080/"
        },
        "id": "v0E-FOcUOkXQ",
        "outputId": "7adc9714-a140-4ad3-8e0e-53123ab7d14c"
      },
      "source": [
        "d = np.array(data)[:,:-1]\r\n",
        "print(\"\\n The attributes are: \",d)\r\n",
        "target = np.array(data)[:,-1]\r\n",
        "print(\"\\n The target is: \",target)"
      ],
      "execution_count": 11,
      "outputs": [
        {
          "output_type": "stream",
          "text": [
            "\n",
            " The attributes are:  [['Morning' 'Sunny' 'Warm' 'Yes' 'Mild' 'Strong']\n",
            " ['Evening' 'Rainy' 'Cold' 'No' 'Mild' 'Normal']\n",
            " ['Morning' 'Sunny' 'Moderate' 'Yes' 'Normal' 'Normal']\n",
            " ['Evening' 'Sunny' 'Cold' 'Yes' 'High' 'Strong']]\n",
            "\n",
            " The target is:  ['Yes' 'No' 'Yes' 'Yes']\n"
          ],
          "name": "stdout"
        }
      ]
    },
    {
      "cell_type": "code",
      "metadata": {
        "colab": {
          "base_uri": "https://localhost:8080/"
        },
        "id": "k4g_cAH8OrGe",
        "outputId": "34d46c4f-058e-4384-8bc6-8a0ac7bffd34"
      },
      "source": [
        "def findS(c,t):\r\n",
        "    for i, val in enumerate(t):\r\n",
        "        if val == \"Yes\":\r\n",
        "            specific_hypothesis = c[i].copy()\r\n",
        "            break\r\n",
        "             \r\n",
        "    for i, val in enumerate(c):\r\n",
        "        if t[i] == \"Yes\":\r\n",
        "            for x in range(len(specific_hypothesis)):\r\n",
        "                if val[x] != specific_hypothesis[x]:\r\n",
        "                    specific_hypothesis[x] = '?'\r\n",
        "                else:\r\n",
        "                    pass\r\n",
        "                 \r\n",
        "    return specific_hypothesis\r\n",
        " \r\n",
        "print(\"\\n The final hypothesis is:\",findS(d,target))"
      ],
      "execution_count": 13,
      "outputs": [
        {
          "output_type": "stream",
          "text": [
            "\n",
            " The final hypothesis is: ['?' 'Sunny' '?' 'Yes' '?' '?']\n"
          ],
          "name": "stdout"
        }
      ]
    }
  ]
}